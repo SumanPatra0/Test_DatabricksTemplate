{
 "cells": [
  {
   "cell_type": "code",
   "execution_count": 0,
   "metadata": {
    "application/vnd.databricks.v1+cell": {
     "cellMetadata": {
      "byteLimit": 2048000,
      "rowLimit": 10000
     },
     "inputWidgets": {},
     "nuid": "c65d7a75-f92e-4282-b440-4cc361eae2e6",
     "showTitle": false,
     "tableResultSettingsMap": {},
     "title": ""
    }
   },
   "outputs": [],
   "source": [
    "dbutils.widgets.text(\"value1\", \"0\", \"Enter first integer\")\n",
    "dbutils.widgets.text(\"value2\", \"0\", \"Enter second integer\")\n",
    "dbutils.widgets.text(\"env\", \"dev\", \"Enter environment\")\n",
    "\n",
    "value1 = int(dbutils.widgets.get(\"value1\"))\n",
    "value2 = int(dbutils.widgets.get(\"value2\"))\n",
    "env = dbutils.widgets.get(\"env\")"
   ]
  },
  {
   "cell_type": "code",
   "execution_count": 0,
   "metadata": {
    "application/vnd.databricks.v1+cell": {
     "cellMetadata": {
      "byteLimit": 2048000,
      "rowLimit": 10000
     },
     "inputWidgets": {},
     "nuid": "ffec160c-0279-46b8-bdfd-6517818b0038",
     "showTitle": false,
     "tableResultSettingsMap": {},
     "title": ""
    }
   },
   "outputs": [],
   "source": [
    "repo_path = '/'.join(\n",
    "    dbutils.notebook.entry_point.getDbutils().notebook().getContext().notebookPath().get()\n",
    "    .split('/')[:-2]\n",
    ")\n",
    "workspace_path = f\"/Workspace/{repo_path.strip('/')}\"\n",
    "import sys\n",
    "print(f\"Repo path: {workspace_path}\")  # Verify the path\n",
    "sys.path.append(workspace_path)\n",
    "\n",
    "from logics.core.lif import sub\n",
    "     \n"
   ]
  },
  {
   "cell_type": "code",
   "execution_count": 0,
   "metadata": {
    "application/vnd.databricks.v1+cell": {
     "cellMetadata": {
      "byteLimit": 2048000,
      "rowLimit": 10000
     },
     "inputWidgets": {},
     "nuid": "09f25c88-98f2-4046-aff7-edfffda0bb7a",
     "showTitle": false,
     "tableResultSettingsMap": {},
     "title": ""
    }
   },
   "outputs": [],
   "source": [
    "import json\n",
    "\n",
    "with open(f\"{workspace_path}/config/{env}.json\", \"r\") as file:\n",
    "    config = json.load(file)\n",
    "\n",
    "json_value = config.get(\"storage_account\") \n",
    "\n",
    "print(json_value)"
   ]
  },
  {
   "cell_type": "code",
   "execution_count": 0,
   "metadata": {
    "application/vnd.databricks.v1+cell": {
     "cellMetadata": {
      "byteLimit": 2048000,
      "rowLimit": 10000
     },
     "inputWidgets": {},
     "nuid": "0221fdce-8274-4697-9b9d-40e1314e2299",
     "showTitle": false,
     "tableResultSettingsMap": {},
     "title": ""
    }
   },
   "outputs": [],
   "source": [
    "print(sub(value1, value2))"
   ]
  }
 ],
 "metadata": {
  "application/vnd.databricks.v1+notebook": {
   "computePreferences": null,
   "dashboards": [],
   "environmentMetadata": {
    "base_environment": "",
    "environment_version": "2"
   },
   "inputWidgetPreferences": null,
   "language": "python",
   "notebookMetadata": {
    "pythonIndentUnit": 4
   },
   "notebookName": "notebook2",
   "widgets": {
    "env": {
     "currentValue": "dev",
     "nuid": "9f5421e4-a47a-4aca-951a-bd469372e780",
     "typedWidgetInfo": {
      "autoCreated": false,
      "defaultValue": "dev",
      "label": "Enter environment",
      "name": "env",
      "options": {
       "widgetDisplayType": "Text",
       "validationRegex": null
      },
      "parameterDataType": "String"
     },
     "widgetInfo": {
      "widgetType": "text",
      "defaultValue": "dev",
      "label": "Enter environment",
      "name": "env",
      "options": {
       "widgetType": "text",
       "autoCreated": null,
       "validationRegex": null
      }
     }
    },
    "value1": {
     "currentValue": "0",
     "nuid": "c0720f24-c903-4de3-9a35-7c97634a3367",
     "typedWidgetInfo": {
      "autoCreated": false,
      "defaultValue": "0",
      "label": "Enter first integer",
      "name": "value1",
      "options": {
       "widgetDisplayType": "Text",
       "validationRegex": null
      },
      "parameterDataType": "String"
     },
     "widgetInfo": {
      "widgetType": "text",
      "defaultValue": "0",
      "label": "Enter first integer",
      "name": "value1",
      "options": {
       "widgetType": "text",
       "autoCreated": null,
       "validationRegex": null
      }
     }
    },
    "value2": {
     "currentValue": "0",
     "nuid": "e9bfa8a7-6141-493b-9fcc-bd3d5ed30057",
     "typedWidgetInfo": {
      "autoCreated": false,
      "defaultValue": "0",
      "label": "Enter second integer",
      "name": "value2",
      "options": {
       "widgetDisplayType": "Text",
       "validationRegex": null
      },
      "parameterDataType": "String"
     },
     "widgetInfo": {
      "widgetType": "text",
      "defaultValue": "0",
      "label": "Enter second integer",
      "name": "value2",
      "options": {
       "widgetType": "text",
       "autoCreated": null,
       "validationRegex": null
      }
     }
    }
   }
  },
  "language_info": {
   "name": "python"
  }
 },
 "nbformat": 4,
 "nbformat_minor": 0
}
